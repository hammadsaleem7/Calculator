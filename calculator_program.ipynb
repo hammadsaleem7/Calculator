{
  "nbformat": 4,
  "nbformat_minor": 0,
  "metadata": {
    "colab": {
      "provenance": []
    },
    "kernelspec": {
      "name": "python3",
      "display_name": "Python 3"
    },
    "language_info": {
      "name": "python"
    }
  },
  "cells": [
    {
      "cell_type": "markdown",
      "source": [
        "create a program which takes two operands and one operator from user and your calculator will be able perform these operation\n",
        "Addition\n",
        "subtraction\n",
        "Multiplication\n",
        "Division\n",
        "square root of a number\n",
        "power of a number"
      ],
      "metadata": {
        "id": "ByBhb7tLIaJV"
      }
    },
    {
      "cell_type": "code",
      "source": [
        "import math"
      ],
      "metadata": {
        "id": "LS1G95BTDoZN"
      },
      "execution_count": 1,
      "outputs": []
    },
    {
      "cell_type": "code",
      "source": [
        "operand_1 = int(input(\"Enter 1st Operand \"))\n",
        "operand_2 = int(input(\"Enter 2nd Operand \"))\n",
        "\n",
        "a=1\n",
        "while a == 1:\n",
        "\n",
        "  operator = input('''\\nType operator:\n",
        "  1. Addition (+)\n",
        "  2. Subtraction (-)\n",
        "  3. Multiplication (*)\n",
        "  4. Division (/)\n",
        "  5. Square Root (sqrt)\n",
        "  6. Power (^) ''')\n",
        "\n",
        "  if operator == \"+\":\n",
        "    var = operand_1 + operand_2\n",
        "    print(\" \")\n",
        "    print(\"{} {} {} = {}\".format(operand_1,operator,operand_2,var))\n",
        "    a = a + 1\n",
        "  elif operator == \"-\":\n",
        "    var = operand_1 - operand_2\n",
        "    print(\" \")\n",
        "    print(\"{} {} {} = {}\".format(operand_1,operator,operand_2,var))\n",
        "    a = a + 1\n",
        "  elif operator == \"/\":\n",
        "    var = operand_1 // operand_2\n",
        "    print(\" \")\n",
        "    print(\"{} {} {} = {}\".format(operand_1,operator,operand_2,var))\n",
        "    a = a + 1\n",
        "  elif operator == \"*\":\n",
        "    var = operand_1 * operand_2\n",
        "    print(\" \")\n",
        "    print(\"{} {} {} = {}\".format(operand_1,operator,operand_2,var))\n",
        "    a = a + 1\n",
        "  elif operator == \"sqrt\":\n",
        "    var1 = math.sqrt(operand_1)\n",
        "    var2 = math.sqrt(operand_2)\n",
        "    print(\" \")\n",
        "    print(\"{} sqrt is {} and {} sqrt is {}\".format(operand_1,var1,operand_2,var2))\n",
        "    a = a + 1\n",
        "  elif operator == \"^\":\n",
        "    var = pow(operand_1, operand_2)\n",
        "    print(\" \")\n",
        "    print(\"{} {} {} = {}\".format(operand_1,operator,operand_2,var))\n",
        "    a = a + 1\n",
        "  else:\n",
        "    print(\" \")\n",
        "    print(\"Enter Valid Operator\")\n",
        "    a=1\n",
        "\n"
      ],
      "metadata": {
        "colab": {
          "base_uri": "https://localhost:8080/"
        },
        "id": "WXykN67rIa7b",
        "outputId": "355b5b20-8bbd-402a-ba15-2b5b8afda1d2"
      },
      "execution_count": 41,
      "outputs": [
        {
          "output_type": "stream",
          "name": "stdout",
          "text": [
            "Enter 1st Operand 4\n",
            "Enter 2nd Operand 5\n",
            "\n",
            "Type operator:\n",
            "  1. Addition (+)\n",
            "  2. Subtraction (-)\n",
            "  3. Multiplication (*)\n",
            "  4. Division (/)\n",
            "  5. Square Root (sqrt)\n",
            "  6. Power (^) +\n",
            " \n",
            "4 + 5 = 9\n"
          ]
        }
      ]
    },
    {
      "cell_type": "code",
      "source": [],
      "metadata": {
        "id": "QKiCMJRXI9A4"
      },
      "execution_count": null,
      "outputs": []
    }
  ]
}